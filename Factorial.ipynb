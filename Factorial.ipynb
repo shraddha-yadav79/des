{
  "nbformat": 4,
  "nbformat_minor": 0,
  "metadata": {
    "colab": {
      "provenance": [],
      "authorship_tag": "ABX9TyOagu+zUiOmxiBnygxHUtfe",
      "include_colab_link": true
    },
    "kernelspec": {
      "name": "python3",
      "display_name": "Python 3"
    },
    "language_info": {
      "name": "python"
    }
  },
  "cells": [
    {
      "cell_type": "markdown",
      "metadata": {
        "id": "view-in-github",
        "colab_type": "text"
      },
      "source": [
        "<a href=\"https://colab.research.google.com/github/shraddha-yadav79/des/blob/main/Factorial.ipynb\" target=\"_parent\"><img src=\"https://colab.research.google.com/assets/colab-badge.svg\" alt=\"Open In Colab\"/></a>"
      ]
    },
    {
      "cell_type": "code",
      "execution_count": 5,
      "metadata": {
        "colab": {
          "base_uri": "https://localhost:8080/"
        },
        "id": "jNzd1vgSEAtc",
        "outputId": "6b7b41c6-e6f4-4e28-ae4d-7c0dfc7ecbbd"
      },
      "outputs": [
        {
          "output_type": "stream",
          "name": "stdout",
          "text": [
            "Overwriting factorial.cpp\n"
          ]
        }
      ],
      "source": [
        "%%writefile factorial.cpp\n",
        "\n",
        "#include <iostream>\n",
        "using namespace std;\n",
        "\n",
        "int factorial(int n) {\n",
        "  if(n ==1)\n",
        "     return 1; // base case\n",
        "  else\n",
        "     return n* factorial(n-1); // recursive call\n",
        "\n",
        "}\n",
        "int main(){\n",
        "  int num = 5;\n",
        "  cout << \"Factorial of\" << num <<\"is\" << factorial(num) << endl;\n",
        "  return 0;}\n"
      ]
    },
    {
      "cell_type": "code",
      "source": [],
      "metadata": {
        "id": "iYinUy_1E6MO"
      },
      "execution_count": 5,
      "outputs": []
    }
  ]
}