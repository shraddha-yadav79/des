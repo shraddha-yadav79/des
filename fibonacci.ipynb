{
  "nbformat": 4,
  "nbformat_minor": 0,
  "metadata": {
    "colab": {
      "provenance": [],
      "authorship_tag": "ABX9TyNnhqFkcMXfXVtChQNlvJrm",
      "include_colab_link": true
    },
    "kernelspec": {
      "name": "python3",
      "display_name": "Python 3"
    },
    "language_info": {
      "name": "python"
    }
  },
  "cells": [
    {
      "cell_type": "markdown",
      "metadata": {
        "id": "view-in-github",
        "colab_type": "text"
      },
      "source": [
        "<a href=\"https://colab.research.google.com/github/shraddha-yadav79/des/blob/main/fibonacci.ipynb\" target=\"_parent\"><img src=\"https://colab.research.google.com/assets/colab-badge.svg\" alt=\"Open In Colab\"/></a>"
      ]
    },
    {
      "cell_type": "code",
      "execution_count": 1,
      "metadata": {
        "colab": {
          "base_uri": "https://localhost:8080/"
        },
        "id": "eHuISFyMNGKp",
        "outputId": "7d1fff1d-7302-4b58-9137-7a2311282654"
      },
      "outputs": [
        {
          "output_type": "stream",
          "name": "stdout",
          "text": [
            "Writing fibonacci.cpp\n"
          ]
        }
      ],
      "source": [
        "%%writefile fibonacci.cpp\n",
        "#include <iostream>\n",
        "using namespace std;\n",
        "\n",
        "void fibonacci(int n){\n",
        "  int a = 0, b = 1,next;\n",
        "  for(int i = 0; i< n; ++i){\n",
        "    cout << a << \"\";\n",
        "    a = b;\n",
        "    b = next;\n",
        "  }\n",
        "  cout << endl;\n",
        "}\n",
        "int main(){\n",
        "  int erms;\n",
        "  cout << \"enter the number of terms:\";\n",
        "  cin >> terms;\n",
        "\n",
        "  cout << \"fibonacci sequence up to\" << terms << \"terms:\"<<endl;\n",
        "  fibonacci(terms);\n",
        "  return 0;\n",
        "  }"
      ]
    },
    {
      "cell_type": "code",
      "source": [],
      "metadata": {
        "id": "_w47hakkOK_d"
      },
      "execution_count": null,
      "outputs": []
    }
  ]
}