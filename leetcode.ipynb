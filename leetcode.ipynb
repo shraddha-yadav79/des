{
  "nbformat": 4,
  "nbformat_minor": 0,
  "metadata": {
    "colab": {
      "provenance": [],
      "authorship_tag": "ABX9TyPLBSgSCWPdLg60kTjKe2E6",
      "include_colab_link": true
    },
    "kernelspec": {
      "name": "python3",
      "display_name": "Python 3"
    },
    "language_info": {
      "name": "python"
    }
  },
  "cells": [
    {
      "cell_type": "markdown",
      "metadata": {
        "id": "view-in-github",
        "colab_type": "text"
      },
      "source": [
        "<a href=\"https://colab.research.google.com/github/shraddha-yadav79/des/blob/main/leetcode.ipynb\" target=\"_parent\"><img src=\"https://colab.research.google.com/assets/colab-badge.svg\" alt=\"Open In Colab\"/></a>"
      ]
    },
    {
      "cell_type": "code",
      "execution_count": 5,
      "metadata": {
        "colab": {
          "base_uri": "https://localhost:8080/"
        },
        "id": "KJrDmnw06Jvq",
        "outputId": "57289046-20c3-4efa-b3d6-7edc735e967e"
      },
      "outputs": [
        {
          "output_type": "stream",
          "name": "stdout",
          "text": [
            "0\n",
            "3\n"
          ]
        }
      ],
      "source": [
        " l = [3,2,2,3]\n",
        " t = 3\n",
        " for i in range(len(l)):\n",
        "  if t == l[i]:\n",
        "     print(i)"
      ]
    },
    {
      "cell_type": "code",
      "source": [
        "l =[3,2,2,3]\n",
        "val = 3\n",
        "k = 0\n",
        "for i in range(len(l)):\n",
        "    if l[i] !=val:\n",
        "      l[k] =l[i]\n",
        "      k +=i\n",
        "print(k)\n",
        "print(l)\n"
      ],
      "metadata": {
        "colab": {
          "base_uri": "https://localhost:8080/"
        },
        "id": "pPRgWuDG7ENK",
        "outputId": "36047ec3-3175-4a09-e9e8-7453ea02554c"
      },
      "execution_count": 6,
      "outputs": [
        {
          "output_type": "stream",
          "name": "stdout",
          "text": [
            "3\n",
            "[2, 2, 2, 3]\n"
          ]
        }
      ]
    }
  ]
}